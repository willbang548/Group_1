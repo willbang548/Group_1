{
 "cells": [
  {
   "cell_type": "code",
   "execution_count": null,
   "metadata": {},
   "outputs": [],
   "source": [
    "import pandas as pd\n",
    "import json\n",
    "import requests"
   ]
  },
  {
   "cell_type": "code",
   "execution_count": null,
   "metadata": {},
   "outputs": [],
   "source": [
    "url = \"https://data.cdc.gov/api/views/hk9y-quqm/rows.json?accessType=DOWNLOAD\"\n",
    "covid_19_data = requests.get(url).json()\n",
    "covid_19_data"
   ]
  },
  {
   "cell_type": "code",
   "execution_count": null,
   "metadata": {},
   "outputs": [],
   "source": [
    "num_columns = len(covid_19_data[\"meta\"][\"view\"][\"columns\"])\n",
    "print(\"Number of columns:\", num_columns)"
   ]
  },
  {
   "cell_type": "code",
   "execution_count": null,
   "metadata": {},
   "outputs": [],
   "source": [
    "conditions = set()\n",
    "for row in covid_19_data[\"data\"]:\n",
    "    condition = row[15] \n",
    "    conditions.add(condition)\n",
    "\n",
    "print(\"Different conditions:\")\n",
    "for condition in conditions:\n",
    "    print(condition)"
   ]
  }
 ],
 "metadata": {
  "language_info": {
   "name": "python"
  },
  "orig_nbformat": 4
 },
 "nbformat": 4,
 "nbformat_minor": 2
}
