{
 "cells": [
  {
   "cell_type": "code",
   "execution_count": 5,
   "metadata": {},
   "outputs": [],
   "source": [
    "import pandas as pd\n",
    "import json\n",
    "import requests"
   ]
  },
  {
   "cell_type": "code",
   "execution_count": 6,
   "metadata": {},
   "outputs": [],
   "source": [
    "url = \"https://data.cdc.gov/api/views/hk9y-quqm/rows.json?accessType=DOWNLOAD\"\n",
    "covid_19_data = requests.get(url).json()\n"
   ]
  },
  {
   "cell_type": "code",
   "execution_count": 7,
   "metadata": {},
   "outputs": [
    {
     "name": "stdout",
     "output_type": "stream",
     "text": [
      "Number of columns: 22\n"
     ]
    }
   ],
   "source": [
    "num_columns = len(covid_19_data[\"meta\"][\"view\"][\"columns\"])\n",
    "print(\"Number of columns:\", num_columns)"
   ]
  },
  {
   "cell_type": "code",
   "execution_count": 8,
   "metadata": {},
   "outputs": [
    {
     "name": "stdout",
     "output_type": "stream",
     "text": [
      "Different conditions:\n",
      "Obesity\n",
      "Intentional and unintentional injury, poisoning, and other adverse events\n",
      "Malignant neoplasms\n",
      "Diabetes\n",
      "Sepsis\n",
      "Alzheimer disease\n",
      "Renal failure\n",
      "Respiratory diseases\n",
      "All other conditions and causes (residual)\n",
      "COVID-19\n",
      "Circulatory diseases\n",
      "Vascular and unspecified dementia\n"
     ]
    }
   ],
   "source": [
    "conditions = set()\n",
    "for row in covid_19_data[\"data\"]:\n",
    "    condition = row[15] \n",
    "    conditions.add(condition)\n",
    "\n",
    "print(\"Different conditions:\")\n",
    "for condition in conditions:\n",
    "    print(condition)"
   ]
  },
  {
   "cell_type": "code",
   "execution_count": null,
   "metadata": {},
   "outputs": [],
   "source": []
  }
 ],
 "metadata": {
  "kernelspec": {
   "display_name": "base",
   "language": "python",
   "name": "python3"
  },
  "language_info": {
   "codemirror_mode": {
    "name": "ipython",
    "version": 3
   },
   "file_extension": ".py",
   "mimetype": "text/x-python",
   "name": "python",
   "nbconvert_exporter": "python",
   "pygments_lexer": "ipython3",
   "version": "3.9.13"
  },
  "orig_nbformat": 4,
  "vscode": {
   "interpreter": {
    "hash": "82a1290b5f906387898231cfc71d528830e0a845b8348805aeda0f1355cf9ffb"
   }
  }
 },
 "nbformat": 4,
 "nbformat_minor": 2
}
