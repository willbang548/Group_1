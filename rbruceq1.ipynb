{
 "cells": [
  {
   "cell_type": "code",
   "execution_count": null,
   "metadata": {},
   "outputs": [],
   "source": []
  }
 ],
 "metadata": {
  "kernelspec": {
   "display_name": "base",
   "language": "python",
   "name": "python3"
  },
  "language_info": {
   "name": "python",
   "version": "3.9.13"
  },
  "orig_nbformat": 4,
  "vscode": {
   "interpreter": {
    "hash": "115c3ee40cc27e46e6c6bc5d35b36faa97c44f1fd445fdb23a8f4d1a004c0188"
   }
  }
 },
 "nbformat": 4,
 "nbformat_minor": 2
}
