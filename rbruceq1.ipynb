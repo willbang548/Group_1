{
 "cells": [
  {
   "cell_type": "code",
   "execution_count": null,
   "metadata": {},
   "outputs": [],
   "source": []
  }
 ],
 "metadata": {
  "kernelspec": {
   "display_name": "base",
   "language": "python",
   "name": "python3"
  },
  "language_info": {
   "name": "python",
   "version": "3.9.13"
  },
  "orig_nbformat": 4,
  "vscode": {
   "interpreter": {
    "hash": "82a1290b5f906387898231cfc71d528830e0a845b8348805aeda0f1355cf9ffb"
   }
  }
 },
 "nbformat": 4,
 "nbformat_minor": 2
}
