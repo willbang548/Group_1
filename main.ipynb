{
 "cells": [
  {
   "cell_type": "code",
   "execution_count": null,
   "metadata": {},
   "outputs": [],
   "source": [
    "# Import dependencies\n",
    "import pandas as pd\n",
    "import requests\n",
    "import numpy as np\n",
    "import pandas as pd\n",
    "from census import Census\n",
    "import matplotlib.pyplot as plt\n",
    "import scipy.stats as st\n",
    "\n",
    "from config import api_key"
   ]
  },
  {
   "cell_type": "code",
   "execution_count": null,
   "metadata": {},
   "outputs": [],
   "source": [
    "# Prepare the dataset for analysis\n",
    "# Read in csv file\n",
    "file_path = \"Conditions_Contributing_to_COVID-19_Deaths__by_State_and_Age__Provisional_2020-2023.csv\"\n",
    "inital_df = pd.read_csv(file_path)\n",
    "\n",
    "# Drop the unwanted columns.\n",
    "inital_df = inital_df.drop(columns=['Data As Of', 'Start Date', 'End Date', 'ICD10_codes', 'Number of Mentions', 'Flag'])\n",
    "\n",
    "# Only keep the rows where the Group is \"By Month\", and delete the row where Age Group is \"All Ages\"\n",
    "inital_df = inital_df.loc[inital_df['Group'] == 'By Month']\n",
    "clean_df = inital_df.loc[inital_df['Age Group'] != 'All Ages']\n",
    "\n",
    "# Drop the NaN values\n",
    "clean_df = clean_df.dropna()\n",
    "\n",
    "# Convert Year and Month columns to integers\n",
    "clean_df.loc[:, 'Year'] = clean_df['Year'].astype(int)\n",
    "clean_df.loc[:, 'Month'] = clean_df['Month'].astype(int)\n",
    "clean_df.loc[:, 'COVID-19 Deaths'] = clean_df['COVID-19 Deaths'].astype(int)\n",
    "\n",
    "clean_df.head()"
   ]
  },
  {
   "attachments": {},
   "cell_type": "markdown",
   "metadata": {},
   "source": [
    "# Calculate the Correlation Between Public Transit and Death Rate for 2020"
   ]
  },
  {
   "cell_type": "code",
   "execution_count": null,
   "metadata": {},
   "outputs": [],
   "source": [
    "#DF 2020\n",
    "year = 2020 \n",
    "values_to_drop = ['United States', 'New York', 'Puerto Rico']\n",
    "clean_df = clean_df.drop(clean_df[clean_df['State'].isin(values_to_drop)].index)\n",
    "df_year = clean_df[clean_df['Year'] == year]\n",
    "grouped = df_year.groupby('State')['COVID-19 Deaths'].sum()\n",
    "df_grouped = pd.DataFrame({'State': grouped.index, 'COVID-19 Deaths': grouped.values})\n",
    "df_grouped = df_grouped.sort_values('COVID-19 Deaths', ascending = False)\n",
    "\n",
    "df_grouped.head()"
   ]
  },
  {
   "cell_type": "code",
   "execution_count": null,
   "metadata": {},
   "outputs": [],
   "source": [
    "#fetch the population by state using Census API for 2020\n",
    "c = Census(api_key, year=2020)\n",
    "census_data_population = c.acs5.get((\"NAME\", \"B01003_001E\"), {'for': 'state:*'})\n",
    "census_data_population = pd.DataFrame(census_data_population)\n",
    "#renme the columns\n",
    "census_data_population = census_data_population.rename(columns={\"B01003_001E\": \"Population\", \"NAME\": \"State\"})\n",
    "census_data_population.head()\n",
    "\n",
    "#fetch the transit_public_transport by state using Census API for 2020, 2021, 2022, and 2023\n",
    "c = Census(api_key, year=2020)\n",
    "census_data_transit = c.acs5.get((\"NAME\", \"B08301_010E\"), {'for': 'state:*'})\n",
    "census_data_transit = pd.DataFrame(census_data_transit)\n",
    "#rename the columns\n",
    "census_data_transit = census_data_transit.rename(columns={\"B08301_010E\": \"Transit\", \"NAME\": \"State\"})\n",
    "census_data_transit.head()\n",
    "\n",
    "# Merge the two dataframes on state\n",
    "merged_df = pd.merge(census_data_population, census_data_transit, how = \"right\", on=\"State\")\n",
    "\n",
    "# Drop the unwanted columns.\n",
    "merged_df = merged_df.drop(columns=['state_x', 'state_y'])\n",
    "merged_df.head()\n",
    "\n",
    "#calculate the transit percentage using transit/population\n",
    "merged_df['Transit Percentage(%)'] = (merged_df['Transit']/merged_df['Population'])*100\n",
    "merged_df.head()\n",
    "\n",
    "#plot the transit percentage by State\n",
    "plt.figure(figsize=(15, 5))\n",
    "plt.bar(merged_df['State'], merged_df['Transit Percentage(%)'], color='b', alpha=0.5, align=\"center\", width=0.5, edgecolor='black')\n",
    "plt.xticks(rotation=90)\n",
    "plt.title(\"Transit Percentage by State 2020\")\n",
    "plt.xlabel(\"State\")\n",
    "plt.ylabel(\"Transit Percentage(%)\")\n",
    "plt.tight_layout()\n",
    "\n",
    "#make number tags on top of each bar\n",
    "for index, value in enumerate(merged_df['Transit Percentage(%)']):\n",
    "    plt.text(index, value, str(round(value, 2)), horizontalalignment='center', verticalalignment='bottom')\n",
    "\n",
    "#make the plot look better\n",
    "plt.tight_layout()\n",
    "plt.savefig(\"figs/Transit Percentage by State 2020.png\")\n",
    "plt.show()\n"
   ]
  },
  {
   "cell_type": "code",
   "execution_count": null,
   "metadata": {},
   "outputs": [],
   "source": [
    "#merge the df_grouped and the census_data_population on state\n",
    "percentage_death = pd.merge(df_grouped, census_data_population, how = \"right\", on=\"State\")\n",
    "percentage_death=percentage_death.drop(columns=['state'])\n",
    "percentage_death.head()\n",
    "\n",
    "#calculate the percentage of death using covid-19 deaths/population\n",
    "percentage_death['Percentage of Death(%)'] = (percentage_death['COVID-19 Deaths']/percentage_death['Population'])*100\n",
    "percentage_death=percentage_death.dropna()\n",
    "percentage_death.head()\n",
    "\n",
    "#plot the percentage of death by state\n",
    "plt.figure(figsize=(15, 5))\n",
    "plt.bar(percentage_death['State'], percentage_death['Percentage of Death(%)'], color='r', alpha=0.5, align=\"center\", width=0.5, edgecolor='black')\n",
    "plt.xticks(rotation=90)\n",
    "plt.title(\"Percentage of Death by State 2020\")\n",
    "plt.xlabel(\"State\")\n",
    "plt.ylabel(\"Percentage of Death(%)\")\n",
    "plt.tight_layout()\n",
    "\n",
    "#make number tags on top of each bar\n",
    "for index, value in enumerate(percentage_death['Percentage of Death(%)']):\n",
    "    plt.text(index, value, str(round(value, 2)), horizontalalignment='center', verticalalignment='bottom')\n",
    "\n",
    "#make the plot look better\n",
    "plt.tight_layout()\n",
    "plt.savefig(\"figs/Percentage of Death by State 2020.png\")\n",
    "plt.show()\n",
    "\n"
   ]
  },
  {
   "cell_type": "code",
   "execution_count": null,
   "metadata": {},
   "outputs": [],
   "source": [
    "#combine the transit percentage and the percentage of death into a new dataframe\n",
    "transit_percentage_death = pd.merge(merged_df, percentage_death, how = \"right\", on=\"State\")\n",
    "transit_percentage_death=transit_percentage_death.drop(columns=['Population_y','Population_x','COVID-19 Deaths','Transit', 'COVID-19 Deaths'])\n",
    "#drop the nan values\n",
    "transit_percentage_death = transit_percentage_death.dropna()"
   ]
  },
  {
   "cell_type": "code",
   "execution_count": null,
   "metadata": {},
   "outputs": [],
   "source": [
    "\n",
    "\n",
    "#establish the correlation between transit percentage and percentage of death\n",
    "correlation = st.pearsonr(transit_percentage_death['Transit Percentage(%)'], transit_percentage_death['Percentage of Death(%)'])\n",
    "print(f\"The correlation between both factors is {round(correlation[0],2)}\")\n",
    "\n",
    "#calulate the linear regression\n",
    "x_values = transit_percentage_death['Transit Percentage(%)']\n",
    "y_values = transit_percentage_death['Percentage of Death(%)']\n",
    "(slope, intercept, rvalue, pvalue, stderr) = st.linregress(x_values, y_values)\n",
    "regress_values = x_values * slope + intercept\n",
    "line_eq = \"y = \" + str(round(slope,2)) + \"x + \" + str(round(intercept,2))\n",
    "\n",
    "\n",
    "plt.scatter(x_values,y_values)\n",
    "plt.plot(x_values,regress_values,\"r-\")\n",
    "\n",
    "#add the equation and line to plot\n",
    "plt.annotate(line_eq, (min(x_values), max(y_values)), fontsize=15, color=\"red\")\n",
    "plt.title('Transit Percentage vs Percentage of Death 2020')\n",
    "plt.xlabel('Transit Percentage(%)')\n",
    "plt.ylabel('Percentage of Death(%)')\n",
    "plt.savefig(\"figs/Transit Percentage vs Percentage of Death 2020.png\")\n",
    "plt.show()\n"
   ]
  },
  {
   "attachments": {},
   "cell_type": "markdown",
   "metadata": {},
   "source": [
    "# Calculate the Correlation Between Public Transit and Death Rate for 2021"
   ]
  },
  {
   "cell_type": "code",
   "execution_count": null,
   "metadata": {},
   "outputs": [],
   "source": [
    "#fetch the population by state using Census API for 2021\n",
    "c = Census(api_key, year=2021)\n",
    "census_data_population = c.acs5.get((\"NAME\", \"B01003_001E\"), {'for': 'state:*'})\n",
    "census_data_population = pd.DataFrame(census_data_population)\n",
    "#renme the columns\n",
    "census_data_population = census_data_population.rename(columns={\"B01003_001E\": \"Population\", \"NAME\": \"State\"})\n",
    "census_data_population.head()\n"
   ]
  },
  {
   "cell_type": "code",
   "execution_count": null,
   "metadata": {},
   "outputs": [],
   "source": [
    "#fetch the transit_public_transport by state using Census API for 2021\n",
    "c = Census(api_key, year=2021)\n",
    "census_data_transit = c.acs5.get((\"NAME\", \"B08301_010E\"), {'for': 'state:*'})\n",
    "census_data_transit = pd.DataFrame(census_data_transit)\n",
    "#rename the columns\n",
    "census_data_transit = census_data_transit.rename(columns={\"B08301_010E\": \"Transit\", \"NAME\": \"State\"})\n",
    "census_data_transit.head()"
   ]
  },
  {
   "cell_type": "code",
   "execution_count": null,
   "metadata": {},
   "outputs": [],
   "source": [
    "\n",
    "# Merge the two dataframes on state\n",
    "merged_df = pd.merge(census_data_population, census_data_transit, how = \"right\", on=\"State\")\n",
    "\n",
    "# Drop the unwanted columns.\n",
    "merged_df = merged_df.drop(columns=['state_x', 'state_y'])\n",
    "merged_df.head()"
   ]
  },
  {
   "cell_type": "code",
   "execution_count": null,
   "metadata": {},
   "outputs": [],
   "source": [
    "#calculate the transit percentage using transit/population\n",
    "merged_df['Transit Percentage(%)'] = (merged_df['Transit']/merged_df['Population'])*100\n",
    "merged_df.head()"
   ]
  },
  {
   "cell_type": "code",
   "execution_count": null,
   "metadata": {},
   "outputs": [],
   "source": [
    "#plot the transit percentage by State\n",
    "plt.figure(figsize=(15, 5))\n",
    "plt.bar(merged_df['State'], merged_df['Transit Percentage(%)'], color='b', alpha=0.5, align=\"center\", width=0.5, edgecolor='black')\n",
    "plt.xticks(rotation=90)\n",
    "plt.title(\"Transit Percentage by State 2021\")\n",
    "plt.xlabel(\"State\")\n",
    "plt.ylabel(\"Transit Percentage(%)\")\n",
    "plt.tight_layout()\n",
    "\n",
    "#make number tags on top of each bar\n",
    "for index, value in enumerate(merged_df['Transit Percentage(%)']):\n",
    "    plt.text(index, value, str(round(value, 2)), horizontalalignment='center', verticalalignment='bottom')\n",
    "\n",
    "#make the plot look better\n",
    "plt.tight_layout()\n",
    "plt.savefig(\"figs/Transit Percentage by State 2021.png\")\n",
    "plt.show()"
   ]
  },
  {
   "cell_type": "code",
   "execution_count": null,
   "metadata": {},
   "outputs": [],
   "source": [
    "#DF 2021\n",
    "year = 2021 \n",
    "values_to_drop = ['United States', 'New York', 'Puerto Rico']\n",
    "clean_df = clean_df.drop(clean_df[clean_df['State'].isin(values_to_drop)].index)\n",
    "df_year_2 = clean_df[clean_df['Year'] == year]\n",
    "grouped_2 = df_year_2.groupby('State')['COVID-19 Deaths'].sum()\n",
    "df_grouped_2 = pd.DataFrame({'State': grouped_2.index, 'COVID-19 Deaths': grouped_2.values})\n",
    "df_grouped_2 = df_grouped_2.sort_values('COVID-19 Deaths', ascending = False)\n",
    "\n",
    "df_grouped_2.head()"
   ]
  },
  {
   "cell_type": "code",
   "execution_count": null,
   "metadata": {},
   "outputs": [],
   "source": [
    "#merge the df_grouped_2 and the census_data_population on state\n",
    "percentage_death = pd.merge(df_grouped_2, census_data_population, how = \"right\", on=\"State\")\n",
    "percentage_death=percentage_death.drop(columns=['state'])\n",
    "percentage_death.head()\n",
    "\n",
    "#calculate the percentage of death using covid-19 deaths/population\n",
    "percentage_death['Percentage of Death(%)'] = (percentage_death['COVID-19 Deaths']/percentage_death['Population'])*100\n",
    "\n",
    "#drop the nan values\n",
    "percentage_death = percentage_death.dropna()\n",
    "\n",
    "percentage_death.head()"
   ]
  },
  {
   "cell_type": "code",
   "execution_count": null,
   "metadata": {},
   "outputs": [],
   "source": [
    "#plot the percentage of death by state\n",
    "plt.figure(figsize=(15, 5))\n",
    "plt.bar(percentage_death['State'], percentage_death['Percentage of Death(%)'], color='r', alpha=0.5, align=\"center\", width=0.5, edgecolor='black')\n",
    "plt.xticks(rotation=90)\n",
    "plt.title(\"Percentage of Death by State 2021\")\n",
    "plt.xlabel(\"State\")\n",
    "plt.ylabel(\"Percentage of Death(%)\")\n",
    "plt.tight_layout()\n",
    "\n",
    "#make number tags on top of each bar\n",
    "for index, value in enumerate(percentage_death['Percentage of Death(%)']):\n",
    "    plt.text(index, value, str(round(value, 2)), horizontalalignment='center', verticalalignment='bottom')\n",
    "\n",
    "#make the plot look better\n",
    "plt.tight_layout()\n",
    "plt.savefig(\"figs/Percentage of Death by State 2021.png\")\n",
    "plt.show()"
   ]
  },
  {
   "cell_type": "code",
   "execution_count": null,
   "metadata": {},
   "outputs": [],
   "source": [
    "#combine the transit percentage and the percentage of death into a new dataframe\n",
    "transit_percentage_death = pd.merge(merged_df, percentage_death, how = \"right\", on=\"State\")\n",
    "transit_percentage_death=transit_percentage_death.drop(columns=['Population_y','Population_x','COVID-19 Deaths','Transit', 'COVID-19 Deaths'])\n",
    "#drop the nan values\n",
    "transit_percentage_death = transit_percentage_death.dropna()\n",
    "\n",
    "transit_percentage_death.head()"
   ]
  },
  {
   "cell_type": "code",
   "execution_count": null,
   "metadata": {},
   "outputs": [],
   "source": [
    "#establish the correlation between transit percentage and percentage of death\n",
    "correlation = st.pearsonr(transit_percentage_death['Transit Percentage(%)'], transit_percentage_death['Percentage of Death(%)'])\n",
    "print(f\"The correlation between both factors is {round(correlation[0],2)}\")\n",
    "\n",
    "#calulate the linear regression\n",
    "x_values = transit_percentage_death['Transit Percentage(%)']\n",
    "y_values = transit_percentage_death['Percentage of Death(%)']\n",
    "(slope, intercept, rvalue, pvalue, stderr) = st.linregress(x_values, y_values)\n",
    "regress_values = x_values * slope + intercept\n",
    "line_eq = \"y = \" + str(round(slope,2)) + \"x + \" + str(round(intercept,2))\n",
    "\n",
    "\n",
    "\n",
    "plt.scatter(x_values,y_values)\n",
    "plt.plot(x_values,regress_values,\"r-\")\n",
    "\n",
    "\n",
    "#add the equation and line to plot\n",
    "plt.annotate(line_eq, (min(x_values), max(y_values)), fontsize=15, color=\"red\")\n",
    "plt.title('Transit Percentage vs Percentage of Death 2021')\n",
    "plt.xlabel('Transit Percentage(%)')\n",
    "plt.ylabel('Percentage of Death(%)')\n",
    "plt.savefig(\"figs/Transit Percentage vs Percentage of Death 2021.png\")\n",
    "plt.show()"
   ]
  },
  {
   "cell_type": "code",
   "execution_count": null,
   "metadata": {},
   "outputs": [],
   "source": []
  }
 ],
 "metadata": {
  "kernelspec": {
   "display_name": "base",
   "language": "python",
   "name": "python3"
  },
  "language_info": {
   "codemirror_mode": {
    "name": "ipython",
    "version": 3
   },
   "file_extension": ".py",
   "mimetype": "text/x-python",
   "name": "python",
   "nbconvert_exporter": "python",
   "pygments_lexer": "ipython3",
   "version": "3.9.13"
  },
  "orig_nbformat": 4
 },
 "nbformat": 4,
 "nbformat_minor": 2
}
