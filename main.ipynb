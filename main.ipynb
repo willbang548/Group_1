{
 "cells": [
  {
   "cell_type": "code",
   "execution_count": 1,
   "metadata": {},
   "outputs": [],
   "source": [
    "# Import dependencies\n",
    "import pandas as pd"
   ]
  },
  {
   "cell_type": "code",
   "execution_count": 10,
   "metadata": {},
   "outputs": [
    {
     "data": {
      "text/html": [
       "<div>\n",
       "<style scoped>\n",
       "    .dataframe tbody tr th:only-of-type {\n",
       "        vertical-align: middle;\n",
       "    }\n",
       "\n",
       "    .dataframe tbody tr th {\n",
       "        vertical-align: top;\n",
       "    }\n",
       "\n",
       "    .dataframe thead th {\n",
       "        text-align: right;\n",
       "    }\n",
       "</style>\n",
       "<table border=\"1\" class=\"dataframe\">\n",
       "  <thead>\n",
       "    <tr style=\"text-align: right;\">\n",
       "      <th></th>\n",
       "      <th>Group</th>\n",
       "      <th>Year</th>\n",
       "      <th>Month</th>\n",
       "      <th>State</th>\n",
       "      <th>Condition Group</th>\n",
       "      <th>Condition</th>\n",
       "      <th>Age Group</th>\n",
       "      <th>COVID-19 Deaths</th>\n",
       "    </tr>\n",
       "  </thead>\n",
       "  <tbody>\n",
       "    <tr>\n",
       "      <th>62100</th>\n",
       "      <td>By Month</td>\n",
       "      <td>2020</td>\n",
       "      <td>1</td>\n",
       "      <td>United States</td>\n",
       "      <td>Respiratory diseases</td>\n",
       "      <td>Influenza and pneumonia</td>\n",
       "      <td>0-24</td>\n",
       "      <td>0</td>\n",
       "    </tr>\n",
       "    <tr>\n",
       "      <th>62101</th>\n",
       "      <td>By Month</td>\n",
       "      <td>2020</td>\n",
       "      <td>2</td>\n",
       "      <td>United States</td>\n",
       "      <td>Respiratory diseases</td>\n",
       "      <td>Influenza and pneumonia</td>\n",
       "      <td>0-24</td>\n",
       "      <td>0</td>\n",
       "    </tr>\n",
       "    <tr>\n",
       "      <th>62102</th>\n",
       "      <td>By Month</td>\n",
       "      <td>2020</td>\n",
       "      <td>3</td>\n",
       "      <td>United States</td>\n",
       "      <td>Respiratory diseases</td>\n",
       "      <td>Influenza and pneumonia</td>\n",
       "      <td>0-24</td>\n",
       "      <td>9</td>\n",
       "    </tr>\n",
       "    <tr>\n",
       "      <th>62103</th>\n",
       "      <td>By Month</td>\n",
       "      <td>2020</td>\n",
       "      <td>4</td>\n",
       "      <td>United States</td>\n",
       "      <td>Respiratory diseases</td>\n",
       "      <td>Influenza and pneumonia</td>\n",
       "      <td>0-24</td>\n",
       "      <td>27</td>\n",
       "    </tr>\n",
       "    <tr>\n",
       "      <th>62104</th>\n",
       "      <td>By Month</td>\n",
       "      <td>2020</td>\n",
       "      <td>5</td>\n",
       "      <td>United States</td>\n",
       "      <td>Respiratory diseases</td>\n",
       "      <td>Influenza and pneumonia</td>\n",
       "      <td>0-24</td>\n",
       "      <td>19</td>\n",
       "    </tr>\n",
       "  </tbody>\n",
       "</table>\n",
       "</div>"
      ],
      "text/plain": [
       "          Group  Year  Month          State       Condition Group  \\\n",
       "62100  By Month  2020      1  United States  Respiratory diseases   \n",
       "62101  By Month  2020      2  United States  Respiratory diseases   \n",
       "62102  By Month  2020      3  United States  Respiratory diseases   \n",
       "62103  By Month  2020      4  United States  Respiratory diseases   \n",
       "62104  By Month  2020      5  United States  Respiratory diseases   \n",
       "\n",
       "                     Condition Age Group  COVID-19 Deaths  \n",
       "62100  Influenza and pneumonia      0-24                0  \n",
       "62101  Influenza and pneumonia      0-24                0  \n",
       "62102  Influenza and pneumonia      0-24                9  \n",
       "62103  Influenza and pneumonia      0-24               27  \n",
       "62104  Influenza and pneumonia      0-24               19  "
      ]
     },
     "execution_count": 10,
     "metadata": {},
     "output_type": "execute_result"
    }
   ],
   "source": [
    "# Prepare the dataset for analysis\n",
    "# Read in csv file\n",
    "file_path = \"Conditions_Contributing_to_COVID-19_Deaths__by_State_and_Age__Provisional_2020-2023.csv\"\n",
    "inital_df = pd.read_csv(file_path)\n",
    "\n",
    "# Drop the unwanted columns.\n",
    "inital_df = inital_df.drop(columns=['Data As Of', 'Start Date', 'End Date', 'ICD10_codes', 'Number of Mentions', 'Flag'])\n",
    "\n",
    "# Only keep the rows where the Group is \"By Month\", and delete the row where Age Group is \"All Ages\"\n",
    "inital_df = inital_df.loc[inital_df['Group'] == 'By Month']\n",
    "clean_df = inital_df.loc[inital_df['Age Group'] != 'All Ages']\n",
    "\n",
    "# Drop the NaN values\n",
    "clean_df = clean_df.dropna()\n",
    "\n",
    "# Convert Year and Month columns to integers\n",
    "clean_df.loc[:, 'Year'] = clean_df['Year'].astype(int)\n",
    "clean_df.loc[:, 'Month'] = clean_df['Month'].astype(int)\n",
    "clean_df.loc[:, 'COVID-19 Deaths'] = clean_df['COVID-19 Deaths'].astype(int)\n",
    "\n",
    "clean_df.head()"
   ]
  },
  {
   "cell_type": "code",
   "execution_count": null,
   "metadata": {},
   "outputs": [],
   "source": []
  }
 ],
 "metadata": {
  "kernelspec": {
   "display_name": "Python 3",
   "language": "python",
   "name": "python3"
  },
  "language_info": {
   "codemirror_mode": {
    "name": "ipython",
    "version": 3
   },
   "file_extension": ".py",
   "mimetype": "text/x-python",
   "name": "python",
   "nbconvert_exporter": "python",
   "pygments_lexer": "ipython3",
   "version": "3.9.6"
  },
  "orig_nbformat": 4,
  "vscode": {
   "interpreter": {
    "hash": "31f2aee4e71d21fbe5cf8b01ff0e069b9275f58929596ceb00d14d90e3e16cd6"
   }
  }
 },
 "nbformat": 4,
 "nbformat_minor": 2
}
